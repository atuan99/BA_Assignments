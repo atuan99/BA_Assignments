{
 "cells": [
  {
   "cell_type": "code",
   "execution_count": null,
   "metadata": {},
   "outputs": [],
   "source": [
    "# 1) What are different collection datatypes in Python? How do they differ from one another?\n",
    "\n",
    "# There are 4 different collection datatypes in Python which are List, Tuple, Dictionary, and Set, all with different\n",
    "# qualities and usage.\n",
    "\n",
    "# List items are ordered, changeable, and allow duplicate values.\n",
    "\n",
    "# Tuples are very similar to lists, however, tuples are immutable meaning they can not be changed after they are \n",
    "# created. While lists are declared with brackets, tuples are declared with parentheses. We would use tuples to \n",
    "# present things that shouldn't be changed, such as days of the week, or dates on a calendar.\n",
    "\n",
    "# Dictionaries are used to store data values in key:value pairs. Dictionary items are ordered, i.e, can be referred \n",
    "# using an index, changeable, i.e, we can change, add or remove items after the dictionary has been created, and \n",
    "# does not allow duplicates, i.e, dictionaries cannot have two items with the same key. The values in dictionary \n",
    "# items can be of any data type. Dictionary items are presented in key:value pairs, and can be referred to by using \n",
    "# the key name.\n",
    "\n",
    "# Sets are used to store multiple items in a single variable. A set is a collection which is both unordered and \n",
    "# unindexed. Sets are written with curly brackets."
   ]
  },
  {
   "cell_type": "code",
   "execution_count": 2,
   "metadata": {},
   "outputs": [],
   "source": [
    "# import package\n",
    "import pandas as pd"
   ]
  },
  {
   "cell_type": "code",
   "execution_count": 5,
   "metadata": {},
   "outputs": [
    {
     "name": "stdout",
     "output_type": "stream",
     "text": [
      "       name  monthly_salary    zip\n",
      "0     Nancy            5000  98122\n",
      "1    Andrew            4000  98401\n",
      "2     Janet            6000  98033\n",
      "3  Margaret            3000  98052\n",
      "4    Steven            2000  98051\n"
     ]
    }
   ],
   "source": [
    "# 2) Create a DataFrame using a dictionary. Name the DataFrame as emp_df.\n",
    "emp_dict = {'name':['Nancy', 'Andrew', 'Janet','Margaret', 'Steven'],\n",
    "         'monthly_salary': [5000,4000,6000,3000,2000],\n",
    "         'zip':[98122,98401,98033,98052,98051]}\n",
    "emp_df = pd.DataFrame(emp_dict)\n",
    "print(emp_df.head())"
   ]
  },
  {
   "cell_type": "code",
   "execution_count": 6,
   "metadata": {},
   "outputs": [
    {
     "data": {
      "text/plain": [
       "name              Nancy\n",
       "monthly_salary     5000\n",
       "zip               98122\n",
       "Name: 0, dtype: object"
      ]
     },
     "execution_count": 6,
     "metadata": {},
     "output_type": "execute_result"
    }
   ],
   "source": [
    "# 3) From emp_df print the first row\n",
    "emp_df.iloc[0]"
   ]
  },
  {
   "cell_type": "code",
   "execution_count": 7,
   "metadata": {},
   "outputs": [
    {
     "data": {
      "text/plain": [
       "name              Steve\n",
       "monthly_salary      2000\n",
       "zip                98051\n",
       "Name: 4, dtype: object"
      ]
     },
     "execution_count": 7,
     "metadata": {},
     "output_type": "execute_result"
    }
   ],
   "source": [
    "# 4) From emp_df print the last row\n",
    "emp_df.iloc[-1]"
   ]
  },
  {
   "cell_type": "code",
   "execution_count": 8,
   "metadata": {},
   "outputs": [
    {
     "data": {
      "text/plain": [
       "(5, 3)"
      ]
     },
     "execution_count": 8,
     "metadata": {},
     "output_type": "execute_result"
    }
   ],
   "source": [
    "# 5) Print the shape of emp_df\n",
    "emp_df.shape"
   ]
  },
  {
   "cell_type": "code",
   "execution_count": 9,
   "metadata": {},
   "outputs": [
    {
     "data": {
      "text/plain": [
       "15"
      ]
     },
     "execution_count": 9,
     "metadata": {},
     "output_type": "execute_result"
    }
   ],
   "source": [
    "# 5) Print the size of emp_df\n",
    "emp_df.size"
   ]
  },
  {
   "cell_type": "code",
   "execution_count": 10,
   "metadata": {},
   "outputs": [
    {
     "data": {
      "text/plain": [
       "4000.0"
      ]
     },
     "execution_count": 10,
     "metadata": {},
     "output_type": "execute_result"
    }
   ],
   "source": [
    "# 6) Calculate the average salary for all the employees in emp_df\n",
    "emp_df['monthly_salary'].mean()"
   ]
  },
  {
   "cell_type": "code",
   "execution_count": 11,
   "metadata": {},
   "outputs": [
    {
     "data": {
      "text/html": [
       "<div>\n",
       "<style scoped>\n",
       "    .dataframe tbody tr th:only-of-type {\n",
       "        vertical-align: middle;\n",
       "    }\n",
       "\n",
       "    .dataframe tbody tr th {\n",
       "        vertical-align: top;\n",
       "    }\n",
       "\n",
       "    .dataframe thead th {\n",
       "        text-align: right;\n",
       "    }\n",
       "</style>\n",
       "<table border=\"1\" class=\"dataframe\">\n",
       "  <thead>\n",
       "    <tr style=\"text-align: right;\">\n",
       "      <th></th>\n",
       "      <th>name</th>\n",
       "      <th>monthly_salary</th>\n",
       "      <th>zip</th>\n",
       "    </tr>\n",
       "  </thead>\n",
       "  <tbody>\n",
       "    <tr>\n",
       "      <th>1</th>\n",
       "      <td>Andrew</td>\n",
       "      <td>4000</td>\n",
       "      <td>98401</td>\n",
       "    </tr>\n",
       "    <tr>\n",
       "      <th>2</th>\n",
       "      <td>Janet</td>\n",
       "      <td>6000</td>\n",
       "      <td>98033</td>\n",
       "    </tr>\n",
       "    <tr>\n",
       "      <th>3</th>\n",
       "      <td>Margaret</td>\n",
       "      <td>3000</td>\n",
       "      <td>98052</td>\n",
       "    </tr>\n",
       "    <tr>\n",
       "      <th>0</th>\n",
       "      <td>Nancy</td>\n",
       "      <td>5000</td>\n",
       "      <td>98122</td>\n",
       "    </tr>\n",
       "    <tr>\n",
       "      <th>4</th>\n",
       "      <td>Stevem</td>\n",
       "      <td>2000</td>\n",
       "      <td>98051</td>\n",
       "    </tr>\n",
       "  </tbody>\n",
       "</table>\n",
       "</div>"
      ],
      "text/plain": [
       "       name  monthly_salary    zip\n",
       "1    Andrew            4000  98401\n",
       "2     Janet            6000  98033\n",
       "3  Margaret            3000  98052\n",
       "0     Nancy            5000  98122\n",
       "4    Stevem            2000  98051"
      ]
     },
     "execution_count": 11,
     "metadata": {},
     "output_type": "execute_result"
    }
   ],
   "source": [
    "# 7) Sort the emp_df by name in ascending order\n",
    "emp_df.sort_values(by = 'name')"
   ]
  },
  {
   "cell_type": "code",
   "execution_count": 12,
   "metadata": {},
   "outputs": [
    {
     "data": {
      "text/html": [
       "<div>\n",
       "<style scoped>\n",
       "    .dataframe tbody tr th:only-of-type {\n",
       "        vertical-align: middle;\n",
       "    }\n",
       "\n",
       "    .dataframe tbody tr th {\n",
       "        vertical-align: top;\n",
       "    }\n",
       "\n",
       "    .dataframe thead th {\n",
       "        text-align: right;\n",
       "    }\n",
       "</style>\n",
       "<table border=\"1\" class=\"dataframe\">\n",
       "  <thead>\n",
       "    <tr style=\"text-align: right;\">\n",
       "      <th></th>\n",
       "      <th>name</th>\n",
       "      <th>monthly_salary</th>\n",
       "      <th>zip</th>\n",
       "    </tr>\n",
       "  </thead>\n",
       "  <tbody>\n",
       "    <tr>\n",
       "      <th>2</th>\n",
       "      <td>Janet</td>\n",
       "      <td>6000</td>\n",
       "      <td>98033</td>\n",
       "    </tr>\n",
       "  </tbody>\n",
       "</table>\n",
       "</div>"
      ],
      "text/plain": [
       "    name  monthly_salary    zip\n",
       "2  Janet            6000  98033"
      ]
     },
     "execution_count": 12,
     "metadata": {},
     "output_type": "execute_result"
    }
   ],
   "source": [
    "# 8) Show only the row for employee who lives in zip code 98033\n",
    "emp_df.loc[emp_df['zip'] == 98033]"
   ]
  },
  {
   "cell_type": "code",
   "execution_count": 13,
   "metadata": {},
   "outputs": [
    {
     "name": "stdout",
     "output_type": "stream",
     "text": [
      "0    60000\n",
      "1    48000\n",
      "2    72000\n",
      "3    36000\n",
      "4    24000\n",
      "Name: annual_salary, dtype: int64\n"
     ]
    }
   ],
   "source": [
    "# 9) Create a new column annual_salary in emp_df using column monthly_salary\n",
    "emp_df['annual_salary'] = emp_df['monthly_salary']*12\n",
    "\n",
    "print(emp_df['annual_salary'])"
   ]
  },
  {
   "cell_type": "code",
   "execution_count": 14,
   "metadata": {},
   "outputs": [
    {
     "name": "stdout",
     "output_type": "stream",
     "text": [
      "  firstname  monthly_salary    zip  annual_salary\n",
      "0     Nancy            5000  98122          60000\n",
      "1    Andrew            4000  98401          48000\n",
      "2     Janet            6000  98033          72000\n",
      "3  Margaret            3000  98052          36000\n",
      "4    Stevem            2000  98051          24000\n"
     ]
    }
   ],
   "source": [
    "# 10) Rename the column name to firstname\n",
    "emp_df.rename(columns = {'name':'firstname'}, inplace = True)\n",
    "\n",
    "print(emp_df.head())"
   ]
  },
  {
   "cell_type": "code",
   "execution_count": 15,
   "metadata": {},
   "outputs": [
    {
     "name": "stdout",
     "output_type": "stream",
     "text": [
      "  firstname  annual_salary    zip\n",
      "0     Nancy          60000  98122\n",
      "1    Andrew          48000  98401\n",
      "2     Janet          72000  98033\n",
      "3  Margaret          36000  98052\n",
      "4    Stevem          24000  98051\n"
     ]
    }
   ],
   "source": [
    "# 11) Create another DataFrame named emp_info using emp_df but only choose columns firstname, and annual_salary, \n",
    "#     zip in it\n",
    "emp_info = emp_df[['firstname','annual_salary','zip']]\n",
    "\n",
    "print(emp_info.head())"
   ]
  },
  {
   "cell_type": "code",
   "execution_count": 16,
   "metadata": {},
   "outputs": [
    {
     "data": {
      "text/plain": [
       "0       Nancy\n",
       "1      Andrew\n",
       "2       Janet\n",
       "3    Margaret\n",
       "4      Stevem\n",
       "Name: firstname, dtype: object"
      ]
     },
     "execution_count": 16,
     "metadata": {},
     "output_type": "execute_result"
    }
   ],
   "source": [
    "# 12) Print only column firstname from emp_info\n",
    "emp_info['firstname']"
   ]
  },
  {
   "cell_type": "code",
   "execution_count": 17,
   "metadata": {},
   "outputs": [
    {
     "data": {
      "text/html": [
       "<div>\n",
       "<style scoped>\n",
       "    .dataframe tbody tr th:only-of-type {\n",
       "        vertical-align: middle;\n",
       "    }\n",
       "\n",
       "    .dataframe tbody tr th {\n",
       "        vertical-align: top;\n",
       "    }\n",
       "\n",
       "    .dataframe thead th {\n",
       "        text-align: right;\n",
       "    }\n",
       "</style>\n",
       "<table border=\"1\" class=\"dataframe\">\n",
       "  <thead>\n",
       "    <tr style=\"text-align: right;\">\n",
       "      <th></th>\n",
       "      <th>firstname</th>\n",
       "      <th>zip</th>\n",
       "    </tr>\n",
       "  </thead>\n",
       "  <tbody>\n",
       "    <tr>\n",
       "      <th>0</th>\n",
       "      <td>Nancy</td>\n",
       "      <td>98122</td>\n",
       "    </tr>\n",
       "    <tr>\n",
       "      <th>1</th>\n",
       "      <td>Andrew</td>\n",
       "      <td>98401</td>\n",
       "    </tr>\n",
       "    <tr>\n",
       "      <th>2</th>\n",
       "      <td>Janet</td>\n",
       "      <td>98033</td>\n",
       "    </tr>\n",
       "    <tr>\n",
       "      <th>3</th>\n",
       "      <td>Margaret</td>\n",
       "      <td>98052</td>\n",
       "    </tr>\n",
       "    <tr>\n",
       "      <th>4</th>\n",
       "      <td>Stevem</td>\n",
       "      <td>98051</td>\n",
       "    </tr>\n",
       "  </tbody>\n",
       "</table>\n",
       "</div>"
      ],
      "text/plain": [
       "  firstname    zip\n",
       "0     Nancy  98122\n",
       "1    Andrew  98401\n",
       "2     Janet  98033\n",
       "3  Margaret  98052\n",
       "4    Stevem  98051"
      ]
     },
     "execution_count": 17,
     "metadata": {},
     "output_type": "execute_result"
    }
   ],
   "source": [
    "# 13) Drop column annual_salary from emp_info\n",
    "emp_info.drop(['annual_salary'], axis = 1)"
   ]
  }
 ],
 "metadata": {
  "kernelspec": {
   "display_name": "Python 3",
   "language": "python",
   "name": "python3"
  },
  "language_info": {
   "codemirror_mode": {
    "name": "ipython",
    "version": 3
   },
   "file_extension": ".py",
   "mimetype": "text/x-python",
   "name": "python",
   "nbconvert_exporter": "python",
   "pygments_lexer": "ipython3",
   "version": "3.7.6"
  }
 },
 "nbformat": 4,
 "nbformat_minor": 4
}
